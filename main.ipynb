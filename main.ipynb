{
 "cells": [
  {
   "cell_type": "code",
   "execution_count": 1,
   "metadata": {
    "collapsed": true,
    "ExecuteTime": {
     "end_time": "2023-12-11T16:28:18.727668500Z",
     "start_time": "2023-12-11T16:28:15.008068500Z"
    }
   },
   "outputs": [],
   "source": [
    "import random\n",
    "\n",
    "# Импортируем библиотеки\n",
    "# Пандас для работы с таблицами\n",
    "import pandas as pd\n",
    "import sns as sns\n",
    "import tensorflow as tf\n",
    "import numpy as np\n",
    "# Для разделения на обучающие данные и данные на которых будет тестироваться модель\n",
    "from sklearn.model_selection import train_test_split\n",
    "# Для замены string на int\n",
    "from sklearn.preprocessing import LabelEncoder\n",
    "from tensorflow.keras import Sequential\n",
    "from tensorflow.keras.layers import Dense\n",
    "\n",
    "import seaborn as sns\n",
    "import matplotlib.pyplot as plt"
   ]
  },
  {
   "cell_type": "code",
   "execution_count": 2,
   "outputs": [
    {
     "data": {
      "text/plain": "       gender   age  hypertension  heart_disease smoking_history    bmi  \\\n0      Female  80.0             0              1           never  25.19   \n1      Female  54.0             0              0         No Info  27.32   \n2        Male  28.0             0              0           never  27.32   \n3      Female  36.0             0              0         current  23.45   \n4        Male  76.0             1              1         current  20.14   \n...       ...   ...           ...            ...             ...    ...   \n99995  Female  80.0             0              0         No Info  27.32   \n99996  Female   2.0             0              0         No Info  17.37   \n99997    Male  66.0             0              0          former  27.83   \n99998  Female  24.0             0              0           never  35.42   \n99999  Female  57.0             0              0         current  22.43   \n\n       HbA1c_level  blood_glucose_level  diabetes  \n0              6.6                  140         0  \n1              6.6                   80         0  \n2              5.7                  158         0  \n3              5.0                  155         0  \n4              4.8                  155         0  \n...            ...                  ...       ...  \n99995          6.2                   90         0  \n99996          6.5                  100         0  \n99997          5.7                  155         0  \n99998          4.0                  100         0  \n99999          6.6                   90         0  \n\n[100000 rows x 9 columns]",
      "text/html": "<div>\n<style scoped>\n    .dataframe tbody tr th:only-of-type {\n        vertical-align: middle;\n    }\n\n    .dataframe tbody tr th {\n        vertical-align: top;\n    }\n\n    .dataframe thead th {\n        text-align: right;\n    }\n</style>\n<table border=\"1\" class=\"dataframe\">\n  <thead>\n    <tr style=\"text-align: right;\">\n      <th></th>\n      <th>gender</th>\n      <th>age</th>\n      <th>hypertension</th>\n      <th>heart_disease</th>\n      <th>smoking_history</th>\n      <th>bmi</th>\n      <th>HbA1c_level</th>\n      <th>blood_glucose_level</th>\n      <th>diabetes</th>\n    </tr>\n  </thead>\n  <tbody>\n    <tr>\n      <th>0</th>\n      <td>Female</td>\n      <td>80.0</td>\n      <td>0</td>\n      <td>1</td>\n      <td>never</td>\n      <td>25.19</td>\n      <td>6.6</td>\n      <td>140</td>\n      <td>0</td>\n    </tr>\n    <tr>\n      <th>1</th>\n      <td>Female</td>\n      <td>54.0</td>\n      <td>0</td>\n      <td>0</td>\n      <td>No Info</td>\n      <td>27.32</td>\n      <td>6.6</td>\n      <td>80</td>\n      <td>0</td>\n    </tr>\n    <tr>\n      <th>2</th>\n      <td>Male</td>\n      <td>28.0</td>\n      <td>0</td>\n      <td>0</td>\n      <td>never</td>\n      <td>27.32</td>\n      <td>5.7</td>\n      <td>158</td>\n      <td>0</td>\n    </tr>\n    <tr>\n      <th>3</th>\n      <td>Female</td>\n      <td>36.0</td>\n      <td>0</td>\n      <td>0</td>\n      <td>current</td>\n      <td>23.45</td>\n      <td>5.0</td>\n      <td>155</td>\n      <td>0</td>\n    </tr>\n    <tr>\n      <th>4</th>\n      <td>Male</td>\n      <td>76.0</td>\n      <td>1</td>\n      <td>1</td>\n      <td>current</td>\n      <td>20.14</td>\n      <td>4.8</td>\n      <td>155</td>\n      <td>0</td>\n    </tr>\n    <tr>\n      <th>...</th>\n      <td>...</td>\n      <td>...</td>\n      <td>...</td>\n      <td>...</td>\n      <td>...</td>\n      <td>...</td>\n      <td>...</td>\n      <td>...</td>\n      <td>...</td>\n    </tr>\n    <tr>\n      <th>99995</th>\n      <td>Female</td>\n      <td>80.0</td>\n      <td>0</td>\n      <td>0</td>\n      <td>No Info</td>\n      <td>27.32</td>\n      <td>6.2</td>\n      <td>90</td>\n      <td>0</td>\n    </tr>\n    <tr>\n      <th>99996</th>\n      <td>Female</td>\n      <td>2.0</td>\n      <td>0</td>\n      <td>0</td>\n      <td>No Info</td>\n      <td>17.37</td>\n      <td>6.5</td>\n      <td>100</td>\n      <td>0</td>\n    </tr>\n    <tr>\n      <th>99997</th>\n      <td>Male</td>\n      <td>66.0</td>\n      <td>0</td>\n      <td>0</td>\n      <td>former</td>\n      <td>27.83</td>\n      <td>5.7</td>\n      <td>155</td>\n      <td>0</td>\n    </tr>\n    <tr>\n      <th>99998</th>\n      <td>Female</td>\n      <td>24.0</td>\n      <td>0</td>\n      <td>0</td>\n      <td>never</td>\n      <td>35.42</td>\n      <td>4.0</td>\n      <td>100</td>\n      <td>0</td>\n    </tr>\n    <tr>\n      <th>99999</th>\n      <td>Female</td>\n      <td>57.0</td>\n      <td>0</td>\n      <td>0</td>\n      <td>current</td>\n      <td>22.43</td>\n      <td>6.6</td>\n      <td>90</td>\n      <td>0</td>\n    </tr>\n  </tbody>\n</table>\n<p>100000 rows × 9 columns</p>\n</div>"
     },
     "execution_count": 2,
     "metadata": {},
     "output_type": "execute_result"
    }
   ],
   "source": [
    "data = pd.read_csv(\"data.csv\")\n",
    "#TODO model save\n",
    "\n",
    "data"
   ],
   "metadata": {
    "collapsed": false,
    "ExecuteTime": {
     "end_time": "2023-12-11T16:28:18.856538200Z",
     "start_time": "2023-12-11T16:28:18.715723800Z"
    }
   }
  },
  {
   "cell_type": "code",
   "execution_count": 3,
   "outputs": [],
   "source": [
    "# Sklearn модель ridge, ssvm https://www.bmc.com/blogs/scikit-learn-classification-tutorial/"
   ],
   "metadata": {
    "collapsed": false,
    "ExecuteTime": {
     "end_time": "2023-12-11T16:28:18.897297900Z",
     "start_time": "2023-12-11T16:28:18.856538200Z"
    }
   }
  },
  {
   "cell_type": "code",
   "execution_count": 4,
   "outputs": [
    {
     "name": "stdout",
     "output_type": "stream",
     "text": [
      "Уникальные значения столбца gender: ['Female' 'Male' 'Other']\n",
      "Уникальные значения столбца age: [80.   54.   28.   36.   76.   20.   44.   79.   42.   32.   53.   78.\n",
      " 67.   15.   37.   40.    5.   69.   72.    4.   30.   45.   43.   50.\n",
      " 41.   26.   34.   73.   77.   66.   29.   60.   38.    3.   57.   74.\n",
      " 19.   46.   21.   59.   27.   13.   56.    2.    7.   11.    6.   55.\n",
      "  9.   62.   47.   12.   68.   75.   22.   58.   18.   24.   17.   25.\n",
      "  0.08 33.   16.   61.   31.    8.   49.   39.   65.   14.   70.    0.56\n",
      " 48.   51.   71.    0.88 64.   63.   52.    0.16 10.   35.   23.    0.64\n",
      "  1.16  1.64  0.72  1.88  1.32  0.8   1.24  1.    1.8   0.48  1.56  1.08\n",
      "  0.24  1.4   0.4   0.32  1.72  1.48]\n",
      "Уникальные значения столбца hypertension: [0 1]\n",
      "Уникальные значения столбца heart_disease: [1 0]\n",
      "Уникальные значения столбца smoking_history: ['never' 'No Info' 'current' 'former' 'ever' 'not current']\n",
      "Уникальные значения столбца bmi: [25.19 27.32 23.45 ... 59.42 44.39 60.52]\n",
      "Уникальные значения столбца HbA1c_level: [6.6 5.7 5.  4.8 6.5 6.1 6.  5.8 3.5 6.2 4.  4.5 9.  7.  8.8 8.2 7.5 6.8]\n",
      "Уникальные значения столбца blood_glucose_level: [140  80 158 155  85 200 145 100 130 160 126 159  90 260 220 300 280 240]\n",
      "Уникальные значения столбца diabetes: [0 1]\n"
     ]
    }
   ],
   "source": [
    "# Вывод уникальных значений для каждого столбца\n",
    "for column in data.columns:\n",
    "    value = data[column].unique()\n",
    "    print(f\"Уникальные значения столбца {column}: {value}\")"
   ],
   "metadata": {
    "collapsed": false,
    "ExecuteTime": {
     "end_time": "2023-12-11T16:28:18.968391600Z",
     "start_time": "2023-12-11T16:28:18.871548500Z"
    }
   }
  },
  {
   "cell_type": "code",
   "execution_count": 5,
   "outputs": [],
   "source": [
    "# Знайдемо стовпці де є пропущені значення\n",
    "cols_with_missing_values = data.columns[data.isnull().any()]\n",
    "\n",
    "# Замінимо пропущені значення в знайдених стовпцях середніми\n",
    "data[cols_with_missing_values] = data[cols_with_missing_values].apply(lambda col: col.fillna(data[col.name].mean()))\n",
    "\n",
    "# убрать все строки, содержащие NaN значения\n",
    "data = data.dropna()"
   ],
   "metadata": {
    "collapsed": false,
    "ExecuteTime": {
     "end_time": "2023-12-11T16:28:19.039251900Z",
     "start_time": "2023-12-11T16:28:18.920717700Z"
    }
   }
  },
  {
   "cell_type": "code",
   "execution_count": 6,
   "outputs": [],
   "source": [
    "# Находим неверные значения и заменяем их средними\n",
    "# print(set(data[\"gender\"]))\n",
    "values = ['Male', 'Female']\n",
    "data.loc[data[\"gender\"] == \"Other\", \"gender\"] = random.choice(values)\n",
    "\n",
    "# Преобразуем категориальные значения в числа с помощью map\n",
    "\n",
    "# Для этих задач отлично подходит код ниже, но мы делаем это вручную.\n",
    "# data[\"smoking_history\"] = LabelEncoder().fit_transform(data[\"smoking_history\"])\n",
    "# print(data['smoking_history'])\n",
    "\n",
    "# Дадим значения полам\n",
    "mapping = {'Female': 0, 'Male': 1}\n",
    "data['gender'] = data['gender'].map(mapping)\n",
    "\n",
    "# Определим историю курения\n",
    "mapping = {'never': 0, 'current': 1, 'No Info': 0, 'former': 0.5, \"ever\": 0.1, \"not current\": 0.2}\n",
    "data['smoking_history'] = data['smoking_history'].map(mapping)\n",
    "\n",
    "# Изменим ml\\ds на mmol\\l\n",
    "data['blood_glucose_level'] = data['blood_glucose_level'] * 0.056"
   ],
   "metadata": {
    "collapsed": false,
    "ExecuteTime": {
     "end_time": "2023-12-11T16:28:19.061232700Z",
     "start_time": "2023-12-11T16:28:18.953162Z"
    }
   }
  },
  {
   "cell_type": "code",
   "execution_count": 7,
   "outputs": [],
   "source": [
    "# # Удаляем outliners из столбца\n",
    "# for column in data.columns:\n",
    "#     print(column, sep=\"\\n\\n\\n\")\n",
    "#\n",
    "#     mean_value = data[column].mean()\n",
    "#     std_value = data[column].std()\n",
    "#\n",
    "#     print(f\"Среднее значение: {mean_value}\")\n",
    "#     print(f\"Стандартное отклонение: {std_value}\")\n",
    "#\n",
    "#     lower_limit = mean_value - 3 * std_value\n",
    "#     upper_limit = mean_value + 3 * std_value\n",
    "#\n",
    "#     print(lower_limit)\n",
    "#     print(upper_limit)\n",
    "#\n",
    "#     df_scores_filtered = data[\n",
    "#         (data[column] > lower_limit) &\n",
    "#         (data[column] < upper_limit)\n",
    "#     ]\n",
    "#\n",
    "#     print(df_scores_filtered)\n",
    "#     print(data[column])"
   ],
   "metadata": {
    "collapsed": false,
    "ExecuteTime": {
     "end_time": "2023-12-11T16:28:19.062269800Z",
     "start_time": "2023-12-11T16:28:18.997313400Z"
    }
   }
  },
  {
   "cell_type": "code",
   "execution_count": 8,
   "outputs": [
    {
     "data": {
      "text/plain": "<Figure size 800x600 with 2 Axes>",
      "image/png": "[encoded data removed]"
     },
     "metadata": {},
     "output_type": "display_data"
    },
    {
     "name": "stdout",
     "output_type": "stream",
     "text": [
      "Корреляция между 'blood_glucose_level' и 'diabetes': 0.4195579960205563\n",
      "Корреляция между 'HbA1c_level' и 'diabetes': 0.4006603146474924\n",
      "Корреляция между 'age' и 'bmi': 0.3373957761861766\n",
      "Корреляция между 'age' и 'diabetes': 0.25800803335609984\n",
      "Корреляция между 'age' и 'hypertension': 0.25117112907443984\n"
     ]
    }
   ],
   "source": [
    "correlation_matrix = data.corr().abs()\n",
    "\n",
    "# Визуализация матрицы корреляций с помощью heatmap из библиотеки Seaborn\n",
    "plt.figure(figsize=(8, 6))\n",
    "sns.heatmap(correlation_matrix, annot=True, cmap='coolwarm', fmt=\".2f\")\n",
    "plt.title('Матрица корреляций')\n",
    "plt.show()\n",
    "\n",
    "# Преобразование матрицы в список значений и их пар признаков\n",
    "correlation_list = [(correlation_matrix.columns[i], correlation_matrix.columns[j], correlation_matrix.iloc[i, j])\n",
    "                    for i in range(correlation_matrix.shape[0])\n",
    "                    for j in range(i + 1, correlation_matrix.shape[1])]\n",
    "\n",
    "# Сортировка списка по убыванию значений корреляции\n",
    "correlation_list.sort(key=lambda x: x[2], reverse=True)\n",
    "\n",
    "# Выбор первых пяти неповторяющихся значений корреляции, исключая 1\n",
    "unique_correlations = []\n",
    "count = 0\n",
    "index = 0\n",
    "\n",
    "while count < 5:\n",
    "    if correlation_list[index][2] < 1 and correlation_list[index][2] not in unique_correlations:\n",
    "        unique_correlations.append(correlation_list[index][2])\n",
    "        print(f\"Корреляция между '{correlation_list[index][0]}' и '{correlation_list[index][1]}': \"\n",
    "              f\"{correlation_list[index][2]}\")\n",
    "        count += 1\n",
    "    index += 1"
   ],
   "metadata": {
    "collapsed": false,
    "ExecuteTime": {
     "end_time": "2023-12-11T16:28:19.555039800Z",
     "start_time": "2023-12-11T16:28:19.015268400Z"
    }
   }
  },
  {
   "cell_type": "code",
   "execution_count": 9,
   "outputs": [],
   "source": [
    "# split into input and output columns\n",
    "X = data.values[:, :-1]\n",
    "y = data.values[:, -1]\n",
    "\n",
    "# ensure all data are floating point values\n",
    "X = X.astype('float32')"
   ],
   "metadata": {
    "collapsed": false,
    "ExecuteTime": {
     "end_time": "2023-12-11T16:28:19.571136500Z",
     "start_time": "2023-12-11T16:28:19.557180800Z"
    }
   }
  },
  {
   "cell_type": "code",
   "execution_count": 10,
   "outputs": [
    {
     "name": "stdout",
     "output_type": "stream",
     "text": [
      "(80000, 8) (20000, 8) (80000,) (20000,)\n"
     ]
    }
   ],
   "source": [
    "# split into train and test datasets но мы используем стратификацию. Это говорит о том что данные разделятся с одинаковым соотношением классов.\n",
    "X_train, X_test, y_train, y_test = train_test_split(X, y, stratify=y, test_size=0.2, random_state=42)\n",
    "print(X_train.shape, X_test.shape, y_train.shape, y_test.shape)"
   ],
   "metadata": {
    "collapsed": false,
    "ExecuteTime": {
     "end_time": "2023-12-11T16:28:19.693530800Z",
     "start_time": "2023-12-11T16:28:19.575128100Z"
    }
   }
  },
  {
   "cell_type": "code",
   "execution_count": 11,
   "outputs": [
    {
     "name": "stdout",
     "output_type": "stream",
     "text": [
      "до:\n",
      " 0    0\n",
      "1    0\n",
      "2    0\n",
      "3    0\n",
      "4    0\n",
      "5    0\n",
      "6    0\n",
      "7    0\n",
      "dtype: int64\n",
      "после:\n",
      " 0    0\n",
      "1    0\n",
      "2    0\n",
      "3    0\n",
      "4    0\n",
      "5    0\n",
      "6    0\n",
      "7    0\n",
      "dtype: int64\n",
      "до:\n",
      " 0    0\n",
      "1    0\n",
      "2    0\n",
      "3    0\n",
      "4    0\n",
      "5    0\n",
      "6    0\n",
      "7    0\n",
      "dtype: int64\n",
      "после:\n",
      " 0    0\n",
      "1    0\n",
      "2    0\n",
      "3    0\n",
      "4    0\n",
      "5    0\n",
      "6    0\n",
      "7    0\n",
      "dtype: int64\n"
     ]
    }
   ],
   "source": [
    "X_train = pd.DataFrame(X_train)\n",
    "print(\"до:\\n\", X_train.isnull().sum())\n",
    "# Знайдемо стовпці де є пропущені значення\n",
    "cols_with_missing_values = X_train.columns[X_train.isnull().any()]\n",
    "\n",
    "# Замінимо пропущені значення в знайдених стовпцях середніми\n",
    "X_train[cols_with_missing_values] = X_train[cols_with_missing_values].apply(lambda col: col.fillna(X_train[col.name].mean()))\n",
    "\n",
    "# убрать все строки, содержащие NaN значения\n",
    "X_train = X_train.dropna()\n",
    "\n",
    "# from sklearn.impute import SimpleImputer\n",
    "#\n",
    "# # ... (ваш текущий код до обработки NaN значений)\n",
    "# print(data.isnull().sum())\n",
    "# # Найти столбцы с пропущенными значениями\n",
    "# cols_with_missing_values = data.columns[data.isnull().any()]\n",
    "#\n",
    "# # Создать импутер для заполнения NaN значений средними значениями\n",
    "# imputer = SimpleImputer(strategy='mean')\n",
    "# # Проверьте типы данных выбранных столбцов\n",
    "# print(data[cols_with_missing_values].dtypes)\n",
    "# # Применить импутер к столбцам с пропущенными значениями\n",
    "# data[cols_with_missing_values] = imputer.fit_transform(data[cols_with_missing_values])\n",
    "\n",
    "\n",
    "print(\"после:\\n\", X_train.isnull().sum())\n",
    "\n",
    "X_test = pd.DataFrame(X_test)\n",
    "print(\"до:\\n\", X_test.isnull().sum())\n",
    "# Знайдемо стовпці де є пропущені значення\n",
    "cols_with_missing_values = X_test.columns[X_test.isnull().any()]\n",
    "\n",
    "# Замінимо пропущені значення в знайдених стовпцях середніми\n",
    "X_test[cols_with_missing_values] = X_test[cols_with_missing_values].apply(lambda col: col.fillna(X_test[col.name].mean()))\n",
    "\n",
    "# убрать все строки, содержащие NaN значения\n",
    "X_test = X_test.dropna()\n",
    "\n",
    "# from sklearn.impute import SimpleImputer\n",
    "#\n",
    "# # ... (ваш текущий код до обработки NaN значений)\n",
    "# print(data.isnull().sum())\n",
    "# # Найти столбцы с пропущенными значениями\n",
    "# cols_with_missing_values = data.columns[data.isnull().any()]\n",
    "#\n",
    "# # Создать импутер для заполнения NaN значений средними значениями\n",
    "# imputer = SimpleImputer(strategy='mean')\n",
    "# # Проверьте типы данных выбранных столбцов\n",
    "# print(data[cols_with_missing_values].dtypes)\n",
    "# # Применить импутер к столбцам с пропущенными значениями\n",
    "# data[cols_with_missing_values] = imputer.fit_transform(data[cols_with_missing_values])\n",
    "\n",
    "\n",
    "print(\"после:\\n\", X_test.isnull().sum())"
   ],
   "metadata": {
    "collapsed": false,
    "ExecuteTime": {
     "end_time": "2023-12-11T16:28:19.714474900Z",
     "start_time": "2023-12-11T16:28:19.618925200Z"
    }
   }
  },
  {
   "cell_type": "code",
   "execution_count": 12,
   "outputs": [
    {
     "name": "stdout",
     "output_type": "stream",
     "text": [
      "8\n"
     ]
    }
   ],
   "source": [
    "# Определяем количество фич (Термин \"фичи\" относится к характеристикам или переменным, используемым для описания каждого образца в наборе данных. Например, если у вас есть данные о покупках, фичами могут быть цена продукта, количество, тип платежа и т. д. ). Столбцов для обучения\n",
    "n_features = X_train.shape[1]\n",
    "print(n_features)"
   ],
   "metadata": {
    "collapsed": false,
    "ExecuteTime": {
     "end_time": "2023-12-11T16:28:19.715473Z",
     "start_time": "2023-12-11T16:28:19.650840600Z"
    }
   }
  },
  {
   "cell_type": "code",
   "execution_count": 13,
   "outputs": [
    {
     "name": "stdout",
     "output_type": "stream",
     "text": [
      "         0     1    2    3    4          5    6      7\n",
      "0      0.0  36.0  0.0  0.0  0.5  22.639999  6.0  8.960\n",
      "1      0.0  31.0  0.0  0.0  0.0  27.320000  5.8  7.056\n",
      "2      1.0  52.0  0.0  0.0  0.2  23.200001  4.0  5.600\n",
      "3      0.0  29.0  0.0  0.0  0.0  30.570000  5.0  8.960\n",
      "4      1.0  61.0  0.0  0.0  0.0  26.879999  5.8  5.040\n",
      "...    ...   ...  ...  ...  ...        ...  ...    ...\n",
      "19995  0.0  22.0  0.0  0.0  0.0  20.299999  4.0  4.480\n",
      "19996  0.0  38.0  0.0  0.0  0.0  23.600000  3.5  7.280\n",
      "19997  0.0  38.0  0.0  0.0  0.0  26.570000  6.2  8.904\n",
      "19998  0.0  78.0  0.0  0.0  0.0  27.320000  5.8  4.760\n",
      "19999  1.0  71.0  0.0  0.0  0.0  29.530001  6.5  8.960\n",
      "\n",
      "[20000 rows x 8 columns]\n",
      "Index(['gender', 'age', 'hypertension', 'heart_disease', 'smoking_history',\n",
      "       'bmi', 'HbA1c_level', 'blood_glucose_level', 'diabetes'],\n",
      "      dtype='object')\n"
     ]
    }
   ],
   "source": [
    "print(X_test)\n",
    "print(data.columns)"
   ],
   "metadata": {
    "collapsed": false,
    "ExecuteTime": {
     "end_time": "2023-12-11T16:28:19.718467700Z",
     "start_time": "2023-12-11T16:28:19.673779800Z"
    }
   }
  },
  {
   "cell_type": "code",
   "execution_count": 14,
   "outputs": [],
   "source": [
    "# from sklearn.preprocessing import StandardScaler\n",
    "# import seaborn as sns\n",
    "# scaler = StandardScaler().fit(X_train)\n",
    "# x_train = scaler.transform(X_train)\n",
    "# x_test = scaler.transform(X_test)\n",
    "#\n",
    "# from sklearn.svm import SVC\n",
    "# svc_model = SVC()\n",
    "#\n",
    "# svc_model.fit(x_train, y_train)\n",
    "#\n",
    "# SVC(C=1.0, cache_size=200, class_weight=None, coef0=0.0,\n",
    "# decision_function_shape='ovr', degree=3, gamma='auto_deprecated',\n",
    "# kernel='rbf', max_iter=-1, probability=False, random_state=None,\n",
    "# shrinking=True, tol=0.001, verbose=False)\n",
    "#\n",
    "# y_predict = svc_model.predict(x_test)\n",
    "#\n",
    "# # aaa = pd.DataFrame([\"1\", \"19\", \"0\", \"0\", \"0\", \"20\", \"5\", \"120\"])\n",
    "# # x_qwer = svc_model.predict([1, aaa])\n",
    "#\n",
    "# from sklearn.metrics import classification_report, confusion_matrix\n",
    "# cm = np.array(confusion_matrix(y_test, y_predict, labels=[0,1]))\n",
    "# confusion = pd.DataFrame(cm, index=['Diabetic', 'Not Diabetic'], columns=['Predicted Diabetes', 'Predicted Healthy'])\n",
    "# sns.heatmap(confusion,annot=True,fmt='g')\n",
    "# print(classification_report(y_test, y_predict))"
   ],
   "metadata": {
    "collapsed": false,
    "ExecuteTime": {
     "end_time": "2023-12-11T16:28:19.719466300Z",
     "start_time": "2023-12-11T16:28:19.684752400Z"
    }
   }
  },
  {
   "cell_type": "code",
   "execution_count": 15,
   "outputs": [],
   "source": [
    "# Определяем что наша модель последовательная. Т.е. мы добавляем слои один за другим.\n",
    "model = Sequential()"
   ],
   "metadata": {
    "collapsed": false,
    "ExecuteTime": {
     "end_time": "2023-12-11T16:28:19.834618400Z",
     "start_time": "2023-12-11T16:28:19.698518600Z"
    }
   }
  },
  {
   "cell_type": "code",
   "execution_count": 16,
   "outputs": [],
   "source": [
    "# Создаем 3 слоя на 10, 8 и 1 нейрон.\n",
    "model.add(Dense(10, activation='relu', kernel_initializer='he_normal', input_shape=(n_features,)))\n",
    "model.add(Dense(8, activation='relu', kernel_initializer='he_normal'))\n",
    "model.add(Dense(1, activation='sigmoid'))"
   ],
   "metadata": {
    "collapsed": false,
    "ExecuteTime": {
     "end_time": "2023-12-11T16:28:19.938438300Z",
     "start_time": "2023-12-11T16:28:19.836617700Z"
    }
   }
  },
  {
   "cell_type": "code",
   "execution_count": 17,
   "outputs": [],
   "source": [
    "# # Определение функции потерь и оптимизатора\n",
    "# # loss_function = tf.keras.losses.BinaryCrossentropy()\n",
    "# # optimizer = tf.keras.optimizers.Adam(learning_rate=0.001)  # Используем Adam оптимизатор\n",
    "# #\n",
    "# # # Компиляция модели с функцией потерь и оптимизатором\n",
    "# # model.compile(optimizer=optimizer, loss=loss_function, metrics=['accuracy'])\n",
    "# #\n",
    "# # # Обучение модели на данных\n",
    "# # model.fit(X_train, y_train, epochs=10, batch_size=32, validation_data=(X_train, y_train))"
   ],
   "metadata": {
    "collapsed": false,
    "ExecuteTime": {
     "end_time": "2023-12-11T16:28:19.960379300Z",
     "start_time": "2023-12-11T16:28:19.934455100Z"
    }
   }
  },
  {
   "cell_type": "code",
   "execution_count": 18,
   "outputs": [],
   "source": [
    "\n",
    "# Выбираем оптимизатор для минимизации функции потерь, определяем функцию потерь, и ставим флажок на то что хотим видеть точность модели.\n",
    "# Оптимизатор в контексте обучения нейронных сетей в машинном обучении представляет собой алгоритм, который определяет способ обновления весов (параметров) модели с целью минимизации функции потерь.\n",
    "# Функция потерь представляет собой математическую функцию, которая измеряет разницу между прогнозируемыми значениями модели и фактическими целевыми значениями.\n",
    "model.compile(optimizer='adam', loss=\"binary_crossentropy\", metrics=['accuracy'])\n"
   ],
   "metadata": {
    "collapsed": false,
    "ExecuteTime": {
     "end_time": "2023-12-11T16:28:20.014528600Z",
     "start_time": "2023-12-11T16:28:19.949416900Z"
    }
   }
  },
  {
   "cell_type": "code",
   "execution_count": 19,
   "outputs": [
    {
     "name": "stdout",
     "output_type": "stream",
     "text": [
      "Epoch 1/4\n",
      "8000/8000 [==============================] - 11s 1ms/step - loss: 0.2459 - accuracy: 0.9261\n",
      "Epoch 2/4\n",
      "8000/8000 [==============================] - 9s 1ms/step - loss: 0.1652 - accuracy: 0.9439\n",
      "Epoch 3/4\n",
      "8000/8000 [==============================] - 9s 1ms/step - loss: 0.1376 - accuracy: 0.9524\n",
      "Epoch 4/4\n",
      "8000/8000 [==============================] - 9s 1ms/step - loss: 0.1293 - accuracy: 0.9549\n"
     ]
    },
    {
     "data": {
      "text/plain": "<keras.src.callbacks.History at 0x22b5c934730>"
     },
     "execution_count": 19,
     "metadata": {},
     "output_type": "execute_result"
    }
   ],
   "source": [
    "# Берем тренировочные данные. Устанавливаем количество эпох, вводим размер батча и устанавливаем правило вывода. verbose=1 выводить данные по каждой эпохе, =0 не выводить.\n",
    "model.fit(X_train, y_train, epochs=4, batch_size=10, verbose=1)"
   ],
   "metadata": {
    "collapsed": false,
    "ExecuteTime": {
     "end_time": "2023-12-11T16:28:58.460944400Z",
     "start_time": "2023-12-11T16:28:19.974343800Z"
    }
   }
  },
  {
   "cell_type": "code",
   "execution_count": 20,
   "outputs": [
    {
     "name": "stdout",
     "output_type": "stream",
     "text": [
      "625/625 [==============================] - 1s 1ms/step - loss: 0.1178 - accuracy: 0.9597\n",
      "Test Accuracy: 95.96999883651733\n"
     ]
    }
   ],
   "source": [
    "# Высчитываем точность модели, сравнивая\n",
    "loss, acc = model.evaluate(X_test, y_test, verbose=1)\n",
    "print(f'Test Accuracy: {acc * 100}')"
   ],
   "metadata": {
    "collapsed": false,
    "ExecuteTime": {
     "end_time": "2023-12-11T16:28:59.297644700Z",
     "start_time": "2023-12-11T16:28:58.461943200Z"
    }
   }
  },
  {
   "cell_type": "code",
   "execution_count": 21,
   "outputs": [],
   "source": [
    "# data_shape = data.shape[0]\n",
    "# print(data_shape)\n",
    "# start_weights = tf.random.uniform(shape=[16, 8], maxval=0, minval=1)\n",
    "# start_weights"
   ],
   "metadata": {
    "collapsed": false,
    "ExecuteTime": {
     "end_time": "2023-12-11T16:28:59.320805400Z",
     "start_time": "2023-12-11T16:28:59.300636300Z"
    }
   }
  },
  {
   "cell_type": "code",
   "execution_count": 32,
   "outputs": [
    {
     "name": "stdout",
     "output_type": "stream",
     "text": [
      "2500/2500 [==============================] - 2s 808us/step\n",
      "           0\n",
      "0  43.637119\n",
      "1   0.037399\n",
      "2  22.981911\n",
      "3   2.338351\n",
      "4   0.053994\n",
      "5   0.036278\n",
      "6   0.476204\n",
      "7   0.119943\n",
      "8   0.179828\n",
      "9  37.830341 \n",
      "Данные выше в процентах\n"
     ]
    }
   ],
   "source": [
    "# make a prediction\n",
    "\n",
    "yhat = model.predict(X_train)\n",
    "yhat = pd.DataFrame(yhat)\n",
    "print(f\"{yhat.head(10) * 100} \\nДанные выше в процентах\")"
   ],
   "metadata": {
    "collapsed": false,
    "ExecuteTime": {
     "end_time": "2023-12-11T16:33:59.170579200Z",
     "start_time": "2023-12-11T16:33:56.305627100Z"
    }
   }
  },
  {
   "cell_type": "code",
   "execution_count": 34,
   "outputs": [
    {
     "name": "stdout",
     "output_type": "stream",
     "text": [
      "1/1 [==============================] - 0s 24ms/step\n",
      "Предсказанная вероятность: [[23.58464]]\n",
      "Человек не находится в зоне риска, но при этом имеет невыраженные проблемы со здоровьем которые могут развиваться.\n"
     ]
    }
   ],
   "source": [
    "\n",
    "new_data = [\"1\", #Введите пол Female or Male \\ 0 or 1\n",
    "            \"49\", #Введите возраст 10.0\n",
    "            \"0\", #'hypertension'0 or 1,\n",
    "            \"0\", #'heart_disease'0 or 1,\n",
    "            \"0\", #'smoking_history' never, ever, current, not current\n",
    "            \"22.92\", #'bmi'10.0,\n",
    "            \"5.5\", #'HbA1c_level'10.0,\n",
    "            \"12.5\" ] #'blood_glucose_level' mmol 6.2 or md\\dl\n",
    "\n",
    "# data_process(new_data)\n",
    "\n",
    "# строки в числа с плавающей запятой\n",
    "new_data_numeric = np.array(new_data, dtype=float)\n",
    "\n",
    "#\n",
    "new_data_numeric = new_data_numeric.reshape(1, -1)  # Изменяем форму на (1, num_features)\n",
    "\n",
    "#\n",
    "prediction = model.predict(new_data_numeric)\n",
    "\n",
    "#\n",
    "print(\"Предсказанная вероятность:\", prediction * 100)\n",
    "\n",
    "# Определите классификацию на основе порога\n",
    "if 0.5 <= prediction <= 0.6:\n",
    "    print(\"Человек вероятно заболеет диабетом, в течении 5-10 лет\")\n",
    "elif 0.61 <= prediction <= 0.8:\n",
    "    print(\"Человек вероятно заболеет диабетом, в течении 1-3 лет\")\n",
    "elif 0.81 <= prediction <= 1:\n",
    "    print(\"Человек вероятно заболеет диабетом, в течении года.\")\n",
    "    if 0.9 <= prediction <= 1:\n",
    "        print(\"Срочно обратитесь к эндокринологу!\")\n",
    "elif 0.3 <= prediction <= 0.49:\n",
    "    print(\"Человек находится в зоне риска, и имеет предрасположенность к развитию заболевания. Или проблем с эндокринной системой.\")\n",
    "elif 0.2 <= prediction <= 0.29:\n",
    "    print(\"Человек не находится в зоне риска, но при этом имеет невыраженные проблемы со здоровьем которые могут развиваться.\")\n",
    "else:\n",
    "    print(\"Человек не имеет предпосылок к диабету\")"
   ],
   "metadata": {
    "collapsed": false,
    "ExecuteTime": {
     "end_time": "2023-12-11T16:34:20.878843900Z",
     "start_time": "2023-12-11T16:34:20.782049600Z"
    }
   }
  },
  {
   "cell_type": "code",
   "execution_count": null,
   "outputs": [],
   "source": [],
   "metadata": {
    "collapsed": false
   }
  },
  {
   "cell_type": "code",
   "execution_count": null,
   "outputs": [],
   "source": [],
   "metadata": {
    "collapsed": false
   }
  }
 ],
 "metadata": {
  "kernelspec": {
   "display_name": "Python 3",
   "language": "python",
   "name": "python3"
  },
  "language_info": {
   "codemirror_mode": {
    "name": "ipython",
    "version": 2
   },
   "file_extension": ".py",
   "mimetype": "text/x-python",
   "name": "python",
   "nbconvert_exporter": "python",
   "pygments_lexer": "ipython2",
   "version": "2.7.6"
  }
 },
 "nbformat": 4,
 "nbformat_minor": 0
}
